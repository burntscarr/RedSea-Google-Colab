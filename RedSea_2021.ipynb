{
  "nbformat": 4,
  "nbformat_minor": 0,
  "metadata": {
    "colab": {
      "name": "RedSea 2021.ipynb",
      "provenance": [],
      "collapsed_sections": [],
      "authorship_tag": "ABX9TyOF/Sn/Y/gwa6fITJiGnXc9",
      "include_colab_link": true
    },
    "kernelspec": {
      "name": "python3",
      "display_name": "Python 3"
    },
    "language_info": {
      "name": "python"
    }
  },
  "cells": [
    {
      "cell_type": "markdown",
      "metadata": {
        "id": "view-in-github",
        "colab_type": "text"
      },
      "source": [
        "<a href=\"https://colab.research.google.com/github/burntscarr/RedSea-Google-Colab/blob/main/RedSea_2021.ipynb\" target=\"_parent\"><img src=\"https://colab.research.google.com/assets/colab-badge.svg\" alt=\"Open In Colab\"/></a>"
      ]
    },
    {
      "cell_type": "markdown",
      "metadata": {
        "id": "JqaZyADlyaIJ"
      },
      "source": [
        "# You can double click on any Text to see the code behind it.\n",
        "You will need the RedSea shared drive, contact burntscarr to get it."
      ]
    },
    {
      "cell_type": "code",
      "metadata": {
        "cellView": "form",
        "id": "59fcvYI8vsN8"
      },
      "source": [
        "#@title Connect GDrive to Colab and go into RedSea Drive\n",
        "# @markdown When you press play, it will ask you to go to a link, allow access and copy the code into the input box that pops up under this cell. Then it will go into the RedSea Drive.\n",
        "from google.colab import drive\n",
        "drive.mount('/content/drive')\n",
        "%cd /content/drive/Shareddrives/RedSea"
      ],
      "execution_count": null,
      "outputs": []
    },
    {
      "cell_type": "code",
      "metadata": {
        "cellView": "form",
        "id": "iLJl2FL4v1cF"
      },
      "source": [
        "#@title Install Git, Clone RedSea.git into RedSea subfolder\n",
        "#@markdown The folder will be located at /content/drive/Shareddrives/RedSea/RedSea/ since you're in /content/drive/Shareddrives/RedSea/ before you clone it, and the cloned folder is called RedSea - This step only really needs done once, you won't need Git for future use of RedSea.\n",
        "!apt install git-all #install git\n",
        "!git clone https://github.com/Dniel97/RedSea.git #clone the latest version of the RedSea project into a subfolder called RedSea\n",
        "!mv /content/drive/Shareddrives/RedSea/RedSea/config/settings.example.py /content/drive/Shareddrives/RedSea/RedSea/config/settings.py #change name of settings file so RedSea can read it"
      ],
      "execution_count": null,
      "outputs": []
    },
    {
      "cell_type": "code",
      "metadata": {
        "id": "qvXf8GKoz4kN",
        "cellView": "form"
      },
      "source": [
        "#@title (Optional) Update RedSea\n",
        "#@markdown WILL NOT RUN BY DEFAULT EVEN IF YOU CLICK PLAY - To use this code, double click and remove any # symbol that is before a ! - So any `#!<code>` become `!<code>` - This will also install git since it should be done separately from the cell above.\n",
        "\n",
        "#!apt install git-all\n",
        "#%cd /content/drive/Shareddrives/RedSea/\n",
        "#%cd RedSea\n",
        "#!git pull\n",
        "#!pip install -r requirements.txt\n",
        "\n",
        "#in you need to run this again, you'll need to run !git reset --hard origin/master"
      ],
      "execution_count": null,
      "outputs": []
    },
    {
      "cell_type": "code",
      "metadata": {
        "id": "pmcAK3wCzKFF",
        "cellView": "form"
      },
      "source": [
        "#@title Install dependencies for RedSea\n",
        "#@markdown This is required every time you re-open this notebook. Once you run this step, you can any commands below. (It may prompt to restart the runtime, do so and go back to the top then next time you get here it won't ask you to restart the runtime)\n",
        "!apt update\n",
        "!apt install python3 ffmpeg\n",
        "%cd /content/drive/Shareddrives/RedSea/\n",
        "%cd RedSea\n",
        "!pip install -r requirements.txt"
      ],
      "execution_count": null,
      "outputs": []
    },
    {
      "cell_type": "code",
      "metadata": {
        "id": "8V3s38Bq08W1",
        "cellView": "form"
      },
      "source": [
        "#@title Add an auth session.\n",
        "#@markdown This will ask you if you want t/m/d/w which stand for TV, Mobile, Desktop and Web. TV gets all quality of stereo files, and gets Atmos. Mobile gets all TV does but also gets Sony 360. The others I rarely use. - Follow the prompts during the auth session and don't be afraid to ask questions! Once you make and name the session you'll change some code in the next command(s). (TO INPUT SCROLL ALL THE WAY TO THE RIGHT OF THE LONG LINE THAT APPEARS 2ND)\n",
        "%cd /content/drive/Shareddrives/RedSea/RedSea/\n",
        "!python3 redsea.py auth add"
      ],
      "execution_count": null,
      "outputs": []
    },
    {
      "cell_type": "code",
      "metadata": {
        "id": "GGQFajnt49IY"
      },
      "source": [
        "#Your first download, using a link\n",
        "!python3 redsea.py -a [SESSION NAME] [LINK]\n",
        "#Change TV to the session you made above. Change [LINK] to a link you want to download. Do not keep the []."
      ],
      "execution_count": null,
      "outputs": []
    },
    {
      "cell_type": "code",
      "metadata": {
        "id": "AGBlb7nn5P82"
      },
      "source": [
        "#Get the latest 50 Dolby Atmos releases\n",
        "!python3 redsea.py -a [SESSION NAME] explore dolby atmos\n",
        "#change TV again here of course.\n",
        "#type the number for the option you want then enter in the text box that appears at the bottom of this cell's output"
      ],
      "execution_count": null,
      "outputs": []
    },
    {
      "cell_type": "code",
      "metadata": {
        "id": "nsg1-1q5vIbD"
      },
      "source": [
        "#Get the latest 50 Sony 360 releases\n",
        "!python3 redsea.py -a [SESSION NAME] explore sony 360\n",
        "#change TV again here of course.\n",
        "#type the number for the option you want then enter in the text box that appears at the bottom of this cell's output"
      ],
      "execution_count": null,
      "outputs": []
    }
  ]
}