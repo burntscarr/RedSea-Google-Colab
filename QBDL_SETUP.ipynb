{
  "nbformat": 4,
  "nbformat_minor": 0,
  "metadata": {
    "colab": {
      "name": "QBDL SETUP",
      "private_outputs": true,
      "provenance": [],
      "collapsed_sections": [],
      "authorship_tag": "ABX9TyObqnAeh0j7wi/veDpD77JB",
      "include_colab_link": true
    },
    "kernelspec": {
      "name": "python3",
      "display_name": "Python 3"
    }
  },
  "cells": [
    {
      "cell_type": "markdown",
      "metadata": {
        "id": "view-in-github",
        "colab_type": "text"
      },
      "source": [
        "<a href=\"https://colab.research.google.com/github/burntscarr/RedSea-Google-Colab/blob/main/QBDL_SETUP.ipynb\" target=\"_parent\"><img src=\"https://colab.research.google.com/assets/colab-badge.svg\" alt=\"Open In Colab\"/></a>"
      ]
    },
    {
      "cell_type": "code",
      "metadata": {
        "id": "Wm49mlt3r6yJ"
      },
      "source": [
        "from google.colab import drive\n",
        "drive.mount('/content/drive')\n",
        "#attach drive"
      ],
      "execution_count": null,
      "outputs": []
    },
    {
      "cell_type": "code",
      "metadata": {
        "id": "0rcBdqRDlbyc"
      },
      "source": [
        "%cd /content/drive/MyDrive\n",
        "## change directory to drive\n",
        "## be sure to change this directory if you need to.\n",
        "## ask for help if you must.\n",
        "%mkdir Qobuz\n",
        "# makes Qobuz folder inside of directory above\n",
        "%cd Qobuz\n",
        "# go into that folder"
      ],
      "execution_count": null,
      "outputs": []
    },
    {
      "cell_type": "code",
      "metadata": {
        "id": "xuvKsFnIsSFc"
      },
      "source": [
        "!pip3 install --upgrade qobuz-dl\n",
        "#on first run of !qobuz-dl you'll be prompted to sign in."
      ],
      "execution_count": null,
      "outputs": []
    },
    {
      "cell_type": "code",
      "metadata": {
        "id": "-jplnXiKsZx5"
      },
      "source": [
        "!qobuz-dl dl <url>\n",
        "# <url> = play.qobuz.com/bla/#####"
      ],
      "execution_count": null,
      "outputs": []
    },
    {
      "cell_type": "code",
      "metadata": {
        "id": "KYZkl1PwGTlx"
      },
      "source": [
        "!qobuz-dl lucky -t artist <artist>\n",
        "#put an aritst in place of <artist>"
      ],
      "execution_count": null,
      "outputs": []
    },
    {
      "cell_type": "code",
      "metadata": {
        "id": "7KE3o1wfIzfj"
      },
      "source": [
        "!qobuz-dl lucky -t album <artist album>\n",
        "#example <artist album> would be Lady Gaga Chromatica"
      ],
      "execution_count": null,
      "outputs": []
    }
  ]
}