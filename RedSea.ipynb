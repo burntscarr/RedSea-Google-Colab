{
  "nbformat": 4,
  "nbformat_minor": 0,
  "metadata": {
    "colab": {
      "name": "RedSea.ipy",
      "provenance": [],
      "private_outputs": true,
      "collapsed_sections": [],
      "authorship_tag": "ABX9TyNLIHVBNEL6DSFoywtpMBv/",
      "include_colab_link": true
    },
    "kernelspec": {
      "name": "python3",
      "display_name": "Python 3"
    },
    "accelerator": "GPU"
  },
  "cells": [
    {
      "cell_type": "markdown",
      "metadata": {
        "id": "view-in-github",
        "colab_type": "text"
      },
      "source": [
        "<a href=\"https://colab.research.google.com/github/burntscarr/RedSea/blob/main/RedSea.ipynb\" target=\"_parent\"><img src=\"https://colab.research.google.com/assets/colab-badge.svg\" alt=\"Open In Colab\"/></a>"
      ]
    },
    {
      "cell_type": "code",
      "metadata": {
        "id": "C0jYtb3BzJj3"
      },
      "source": [
        "from google.colab import drive\n",
        "drive.mount('/content/drive')\n",
        "#Import GDrive Utility"
      ],
      "execution_count": null,
      "outputs": []
    },
    {
      "cell_type": "code",
      "metadata": {
        "id": "0N4lfekCYreW"
      },
      "source": [
        "%cd /content/drive/MyDrive\n",
        "#Go into Drive Folder"
      ],
      "execution_count": null,
      "outputs": []
    },
    {
      "cell_type": "code",
      "metadata": {
        "id": "TjX2LveoYzYS"
      },
      "source": [
        "!ls\n",
        "#List Files to be sure you're in the right place."
      ],
      "execution_count": null,
      "outputs": []
    },
    {
      "cell_type": "code",
      "metadata": {
        "id": "uxy7wzGsZTat"
      },
      "source": [
        "!apt install ffmpeg nodejs npm"
      ],
      "execution_count": null,
      "outputs": []
    },
    {
      "cell_type": "code",
      "metadata": {
        "id": "fcsZ2ws1Y0A-"
      },
      "source": [
        "!git clone https://github.com/Dniel97/redsea"
      ],
      "execution_count": null,
      "outputs": []
    },
    {
      "cell_type": "code",
      "metadata": {
        "id": "PzlPtPaOZIbd"
      },
      "source": [
        "%cd /content/drive/MyDrive/redsea"
      ],
      "execution_count": null,
      "outputs": []
    },
    {
      "cell_type": "code",
      "metadata": {
        "id": "KAkB876Fdf2s"
      },
      "source": [
        "pip install -r requirements.txt"
      ],
      "execution_count": null,
      "outputs": []
    },
    {
      "cell_type": "code",
      "metadata": {
        "id": "kwtX97yVeNqf"
      },
      "source": [
        "%cd /content/drive/MyDrive/redsea/captcha\n",
        "!npm install\n",
        "%cd .."
      ],
      "execution_count": null,
      "outputs": []
    },
    {
      "cell_type": "code",
      "metadata": {
        "id": "z-3MYlK7ZKVc"
      },
      "source": [
        "%cd /content/drive/MyDrive/redsea/config\n",
        "!mv settings.example.py settings.py\n",
        "%cd .."
      ],
      "execution_count": null,
      "outputs": []
    },
    {
      "cell_type": "code",
      "metadata": {
        "id": "5sOlvbjUeaK3"
      },
      "source": [
        "#this is a long set of text to extend the cell length so you can scroll to the right to click on the input box. #this is a long set of text to extend the cell length so you can scroll to the right to click on the input box.\n",
        "!python redsea.py auth add"
      ],
      "execution_count": null,
      "outputs": []
    },
    {
      "cell_type": "code",
      "metadata": {
        "id": "sNilkaU_emgx"
      },
      "source": [
        "!python redsea.py https://tidal.com/browse/playlist/c18f4545-7ccd-4fb9-a705-968b4a51de4c"
      ],
      "execution_count": null,
      "outputs": []
    }
  ]
}