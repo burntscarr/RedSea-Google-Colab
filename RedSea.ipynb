{
  "nbformat": 4,
  "nbformat_minor": 0,
  "metadata": {
    "colab": {
      "name": "RedSea",
      "provenance": [],
      "private_outputs": true,
      "collapsed_sections": [],
      "authorship_tag": "ABX9TyNgJ/s7PImAPR8NXpr1iKEd",
      "include_colab_link": true
    },
    "kernelspec": {
      "name": "python3",
      "display_name": "Python 3"
    },
    "accelerator": "GPU"
  },
  "cells": [
    {
      "cell_type": "markdown",
      "metadata": {
        "id": "view-in-github",
        "colab_type": "text"
      },
      "source": [
        "<a href=\"https://colab.research.google.com/github/burntscarr/RedSea/blob/main/RedSea.ipynb\" target=\"_parent\"><img src=\"https://colab.research.google.com/assets/colab-badge.svg\" alt=\"Open In Colab\"/></a>"
      ]
    },
    {
      "cell_type": "code",
      "metadata": {
        "id": "C0jYtb3BzJj3"
      },
      "source": [
        "from google.colab import drive\n",
        "drive.mount('/content/drive')\n",
        "#Import GDrive Utility - You'll be prompted to go to a website, choose a profile if you haave multiple, and click\n",
        "#allow on the bottom of it. Then copy that code into the box below."
      ],
      "execution_count": null,
      "outputs": []
    },
    {
      "cell_type": "code",
      "metadata": {
        "id": "0N4lfekCYreW"
      },
      "source": [
        "%cd /content/drive/MyDrive\n",
        "#Go into Drive Folder - Note this project will load all content into GDrive, be sure to have space or use a new Gmail."
      ],
      "execution_count": null,
      "outputs": []
    },
    {
      "cell_type": "code",
      "metadata": {
        "id": "TjX2LveoYzYS"
      },
      "source": [
        "#!ls\n",
        "#List Files to be sure you're in the right place.\n",
        "\n",
        "##########\n",
        "#Optional# commands start with #! - To use these remove the # to leave !command\n",
        "##########"
      ],
      "execution_count": null,
      "outputs": []
    },
    {
      "cell_type": "code",
      "metadata": {
        "id": "uxy7wzGsZTat"
      },
      "source": [
        "!apt install python3 ffmpeg nodejs npm\n",
        "#Install required apt packages - errors are fine here so far."
      ],
      "execution_count": null,
      "outputs": []
    },
    {
      "cell_type": "code",
      "metadata": {
        "id": "fcsZ2ws1Y0A-"
      },
      "source": [
        "!git clone https://github.com/Dniel97/redsea\n",
        "#Clone the repository into GDrive"
      ],
      "execution_count": null,
      "outputs": []
    },
    {
      "cell_type": "code",
      "metadata": {
        "id": "PzlPtPaOZIbd"
      },
      "source": [
        "%cd /content/drive/MyDrive/redsea\n",
        "#Change Directory to the redsea folder we just cloned."
      ],
      "execution_count": null,
      "outputs": []
    },
    {
      "cell_type": "code",
      "metadata": {
        "id": "KAkB876Fdf2s"
      },
      "source": [
        "pip install -r requirements.txt\n",
        "#Install python requirements"
      ],
      "execution_count": null,
      "outputs": []
    },
    {
      "cell_type": "code",
      "metadata": {
        "id": "kwtX97yVeNqf"
      },
      "source": [
        "%cd /content/drive/MyDrive/redsea/captcha\n",
        "#Go into captcha folder to install NPM captcha stuff.\n",
        "#This is not currently compatible with Colab since it can't open a window,\n",
        "#but is required by Python and doesn't take long.\n",
        "!npm install\n",
        "#Install NPM Stuff\n",
        "%cd ..\n",
        "#Go back up a folder to redsea folder"
      ],
      "execution_count": null,
      "outputs": []
    },
    {
      "cell_type": "code",
      "metadata": {
        "id": "z-3MYlK7ZKVc"
      },
      "source": [
        "%cd /content/drive/MyDrive/redsea/config\n",
        "#Change Directory to config folder to rename the settings file so it can load.\n",
        "!mv settings.example.py settings.py\n",
        "#Rename settings.example.py to settings.py in config folder so it can load.\n",
        "%cd ..\n",
        "#Go back up a folder to redsea folder."
      ],
      "execution_count": null,
      "outputs": []
    },
    {
      "cell_type": "code",
      "metadata": {
        "id": "5sOlvbjUeaK3"
      },
      "source": [
        "##READ THIS FIRST IF YOU HAVEN'T USED REDSEA BEFORE!\n",
        "\n",
        "#When you run this you'll need to scroll to the right and click the little white box so an input box appears.\n",
        "#Then you'll want to type in d and press enter - This is to create a desktop authorization as if you were\n",
        "#using the Tidal app on Desktop. Other types will work, but you need to get your auth codes or use a desktop terminal.\n",
        "#Next it MIGHT ask you if you want to type in your auth codes.\n",
        "#Unless you know how to get these or want to learn, type n and then enter.\n",
        "#If it doesn't ask, it'll prompt for username which is your email. Type it and press enter.\n",
        "#Nothing is saved by the creator of this application, all data is in your GDrive and deletable/editable by you.\n",
        "#Next it'll ask for a password, type your password and press enter. Again not saved.\n",
        "#Now you'll want to name the session something like Colab, but it can technically be anything, and press enter.\n",
        "#Session Saved!\n",
        "\n",
        "\n",
        "#this is a long set of text to extend the cell length so you can scroll to the right to click on the input box. #this is a long set of text to extend the cell length so you can scroll to the right to click on the input box.\n",
        "!python3 redsea.py auth add\n",
        "#Start RedSea's Tidal session authorization process.\n"
      ],
      "execution_count": null,
      "outputs": []
    },
    {
      "cell_type": "code",
      "metadata": {
        "id": "sNilkaU_emgx"
      },
      "source": [
        "#REPLACE [URL] with the URL of what you're trying to download\n",
        "!python3 redsea.py [URL]\n",
        "#initiate RedSea to download the contents of [URL].\n",
        "#urls usually look like https://tidal.com/browse/[track/album/artist/playlist]/[NUMERICALID]\n",
        "#Ignore the part the says\n",
        "#/usr/local/lib/python3.6/dist-packages/requests/__init__.py:91: RequestsDependencyWarning: urllib3 (1.26.2) or chardet (3.0.4) doesn't match a supported version!  RequestsDependencyWarning)\n",
        "#if it even does"
      ],
      "execution_count": null,
      "outputs": []
    }
  ]
}